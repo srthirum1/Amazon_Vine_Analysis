{
 "cells": [
  {
   "cell_type": "code",
   "execution_count": null,
   "source": [
    "\r\n",
    "# Import your dependencies.\r\n",
    "import pandas as pd"
   ],
   "outputs": [],
   "metadata": {}
  },
  {
   "cell_type": "code",
   "execution_count": null,
   "source": [
    "# Read in the vine table csv file. \r\n",
    "vine_df = pd.read_csv(\"vine_table.csv\")\r\n",
    "vine_df"
   ],
   "outputs": [],
   "metadata": {}
  },
  {
   "cell_type": "code",
   "execution_count": null,
   "source": [
    "vine_df.info()\r\n"
   ],
   "outputs": [],
   "metadata": {}
  },
  {
   "cell_type": "code",
   "execution_count": null,
   "source": [
    "df1 = vine_df.loc[vine_df[\"total_votes\"] >= 20]\r\n",
    "df1"
   ],
   "outputs": [],
   "metadata": {}
  },
  {
   "cell_type": "code",
   "execution_count": null,
   "source": [
    "df2 = df1.loc[(df1[\"helpful_votes\"]/df1[\"total_votes\"] >= 0.5)]\r\n",
    "df2"
   ],
   "outputs": [],
   "metadata": {}
  },
  {
   "cell_type": "code",
   "execution_count": null,
   "source": [
    "df2.review_id.count()\r\n"
   ],
   "outputs": [],
   "metadata": {}
  },
  {
   "cell_type": "code",
   "execution_count": null,
   "source": [
    "paid_df = df2.loc[df2[\"vine\"]==\"Y\"]\r\n",
    "paid_df.head(10)"
   ],
   "outputs": [],
   "metadata": {}
  },
  {
   "cell_type": "code",
   "execution_count": null,
   "source": [
    "unpaid_df = df2.loc[df2[\"vine\"]==\"N\"]\r\n",
    "unpaid_df"
   ],
   "outputs": [],
   "metadata": {}
  },
  {
   "cell_type": "code",
   "execution_count": null,
   "source": [
    "paid_five_star_number = paid_df.loc[(paid_df['star_rating']== 5)][\"star_rating\"].count()\r\n",
    "type(paid_five_star_number)"
   ],
   "outputs": [],
   "metadata": {}
  },
  {
   "cell_type": "code",
   "execution_count": null,
   "source": [
    "paid_five_star_number = paid_df.loc[(paid_df['star_rating']== 5)][\"star_rating\"].count()\r\n",
    "\r\n",
    "# Retrieve the total number of star ratings from the DataFrame that has a written review.\r\n",
    "paid_number = paid_df[\"star_rating\"].count()\r\n",
    "\r\n",
    "# Calculate the percentage of five star reviews.\r\n",
    "percentage_five_star_vine = paid_five_star_number / paid_number * 100\r\n",
    "\r\n",
    "# Print the results. \r\n",
    "print(paid_number)\r\n",
    "print(paid_five_star_number)\r\n",
    "print(f\"{round(percentage_five_star_vine,2)}%\")"
   ],
   "outputs": [],
   "metadata": {}
  },
  {
   "cell_type": "code",
   "execution_count": null,
   "source": [
    "# Retrieve the number of 5 star ratings from the DataFrame that doesn't have a written review.\r\n",
    "unpaid_five_star_number = unpaid_df.loc[(unpaid_df['star_rating']== 5)][\"star_rating\"].count()\r\n",
    "\r\n",
    "# Retrieve the total number of star ratings from the DataFrame that doesn't have a written review.\r\n",
    "unpaid_number = unpaid_df[\"star_rating\"].count()\r\n",
    "\r\n",
    "# Calculate the percentage of five star reviews.\r\n",
    "percentage_five_star_non_vine = unpaid_five_star_number / unpaid_number * 100\r\n",
    "\r\n",
    "# Print the results. \r\n",
    "print(unpaid_number)\r\n",
    "print(unpaid_five_star_number)\r\n",
    "print(f\"{round(percentage_five_star_non_vine,2)}%\")"
   ],
   "outputs": [],
   "metadata": {}
  },
  {
   "cell_type": "code",
   "execution_count": null,
   "source": [],
   "outputs": [],
   "metadata": {}
  }
 ],
 "metadata": {
  "orig_nbformat": 4,
  "language_info": {
   "name": "python"
  }
 },
 "nbformat": 4,
 "nbformat_minor": 2
}